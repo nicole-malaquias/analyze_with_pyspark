{
  "cells": [
    {
      "cell_type": "markdown",
      "metadata": {
        "id": "DUPUtEv3P3Pi"
      },
      "source": [
        "## Deafio Open Co"
      ]
    },
    {
      "cell_type": "code",
      "execution_count": null,
      "metadata": {
        "id": "cIv5TfJuqocu"
      },
      "outputs": [],
      "source": [
        "pip install pyspark"
      ]
    },
    {
      "cell_type": "markdown",
      "metadata": {
        "id": "rBQXXKKJP9qe"
      },
      "source": [
        "## Importações necessárias"
      ]
    },
    {
      "cell_type": "code",
      "execution_count": null,
      "metadata": {
        "id": "QyJM6WDI1lgV"
      },
      "outputs": [],
      "source": [
        "import pyspark.sql.functions as F\n",
        "from pyspark.sql import SparkSession\n",
        "from pyspark.sql.functions import *\n",
        "from pyspark.sql.types import *\n",
        "from pyspark.sql.window import Window\n",
        "from pyspark.sql import SparkSession\n",
        "from datetime import datetime, timedelta\n"
      ]
    },
    {
      "cell_type": "markdown",
      "metadata": {
        "id": "uOtEm05HQBe9"
      },
      "source": [
        "## Criando conexão com spark **ou buscando uma já criada com o nome de open_01**"
      ]
    },
    {
      "cell_type": "code",
      "execution_count": null,
      "metadata": {
        "id": "Mz4BJG1U2W0z"
      },
      "outputs": [],
      "source": [
        "spark = (\n",
        "    SparkSession.builder\n",
        "    .master('local')\n",
        "    .appName('open_01')\n",
        "    .getOrCreate()\n",
        ")"
      ]
    },
    {
      "cell_type": "markdown",
      "metadata": {
        "id": "QJL1N9ATQM4B"
      },
      "source": [
        "## Carregando dataframes"
      ]
    },
    {
      "cell_type": "code",
      "execution_count": null,
      "metadata": {
        "id": "vzsHF0IM2aG7"
      },
      "outputs": [],
      "source": [
        "df_2009 = spark.read.json('data-nyctaxi-trips-2009.json')\n",
        "df_2010 = spark.read.json('data-nyctaxi-trips-2010.json')\n",
        "df_2011 = spark.read.json('data-nyctaxi-trips-2011.json')\n",
        "df_2012 = spark.read.json('data-nyctaxi-trips-2012.json')\n",
        "type_pay = spark.read.csv('data-payment_lookup.csv', header=True, inferSchema=True)\n",
        "vendedor = spark.read.csv('data-vendor_lookup.csv', header=True, inferSchema=True)\n",
        "\n",
        "\n"
      ]
    },
    {
      "cell_type": "markdown",
      "metadata": {
        "id": "HwaTDeA0dmbV"
      },
      "source": [
        "## Trata a coluna de dado para ficar mais facil"
      ]
    },
    {
      "cell_type": "code",
      "execution_count": null,
      "metadata": {
        "id": "F411eGPsdlvD"
      },
      "outputs": [],
      "source": [
        "def extrair_data_pickup_date(year_df):\n",
        "    year_df = year_df.withColumn(\"pickup_date\", F.to_date(\"pickup_datetime\"))\n",
        "    return year_df\n",
        "\n",
        "df_2009 = extrair_data_pickup_date(df_2009)\n",
        "df_2010 = extrair_data_pickup_date(df_2010)\n",
        "df_2011 = extrair_data_pickup_date(df_2011)\n",
        "df_2012 = extrair_data_pickup_date(df_2012)\n"
      ]
    },
    {
      "cell_type": "markdown",
      "metadata": {
        "id": "Vu2dY6XtLoQE"
      },
      "source": [
        "## Qual vendedor viajou mais no ano de 2009 á 2012?\n",
        "\n"
      ]
    },
    {
      "cell_type": "code",
      "execution_count": null,
      "metadata": {
        "id": "WmKnZR1rGl2h",
        "colab": {
          "base_uri": "https://localhost:8080/"
        },
        "outputId": "9e0d7801-0429-4239-d7bd-f67569c7d5c0"
      },
      "outputs": [
        {
          "output_type": "stream",
          "name": "stdout",
          "text": [
            "No ano de 2009:\n",
            "+------------+-----------+\n",
            "|        name|total_trips|\n",
            "+------------+-----------+\n",
            "|VeriFone Inc|      15379|\n",
            "+------------+-----------+\n",
            "\n",
            "\n",
            "\n",
            "No ano de 2010:\n",
            "+------------+-----------+\n",
            "|        name|total_trips|\n",
            "+------------+-----------+\n",
            "|VeriFone Inc|      16630|\n",
            "+------------+-----------+\n",
            "\n",
            "\n",
            "\n",
            "No ano de 2011:\n",
            "+------------+-----------+\n",
            "|        name|total_trips|\n",
            "+------------+-----------+\n",
            "|VeriFone Inc|      17472|\n",
            "+------------+-----------+\n",
            "\n",
            "\n",
            "\n",
            "No ano de 2012:\n",
            "+------------+-----------+\n",
            "|        name|total_trips|\n",
            "+------------+-----------+\n",
            "|VeriFone Inc|      17472|\n",
            "+------------+-----------+\n",
            "\n"
          ]
        }
      ],
      "source": [
        "def find_max_trips_vendor(year_df, vendedor) -> None:\n",
        "    \"\"\"\n",
        "    Esta função encontra o vendedor que mais viajou em um ano específico.\n",
        "\n",
        "    Args:\n",
        "        year_df (DataFrame): Um DataFrame contendo dados de viagens para um único ano.\n",
        "        vendedor (DataFrame): Um DataFrame contendo dados sobre os vendedores.\n",
        "\n",
        "    Returns:\n",
        "        DataFrame: Um DataFrame contendo o vendedor que mais viajou e o número de viagens que ele realizou.\n",
        "    \"\"\"\n",
        "\n",
        "    joined_data = year_df.join(vendedor, on=\"vendor_id\", how=\"inner\")\n",
        "\n",
        "    vendor_trips = joined_data.groupBy(\"vendor_id\", \"name\").agg(count(\"vendor_id\").alias(\"total_trips\"))\n",
        "\n",
        "    max_trips_vendor = vendor_trips.orderBy(desc(\"total_trips\")).limit(1)\n",
        "\n",
        "    max_trips_vendor.select(\"name\", \"total_trips\").show()\n",
        "\n",
        "print(\"No ano de 2009:\")\n",
        "find_max_trips_vendor(df_2009, vendedor)\n",
        "print(\"\\n\")\n",
        "print(\"No ano de 2010:\")\n",
        "find_max_trips_vendor(df_2010, vendedor)\n",
        "print(\"\\n\")\n",
        "print(\"No ano de 2011:\")\n",
        "find_max_trips_vendor(df_2011, vendedor)\n",
        "print(\"\\n\")\n",
        "print(\"No ano de 2012:\")\n",
        "find_max_trips_vendor(df_2012, vendedor)\n"
      ]
    },
    {
      "cell_type": "markdown",
      "metadata": {
        "id": "ysjRZOBXQYGF"
      },
      "source": [
        "## Qual a semana de cada ano que mais teve viagens de táxi?\n",
        "\n",
        "---\n",
        "\n"
      ]
    },
    {
      "cell_type": "code",
      "execution_count": null,
      "metadata": {
        "colab": {
          "base_uri": "https://localhost:8080/"
        },
        "id": "sMvGB4ysQf_k",
        "outputId": "95a401d0-e93f-4842-8c78-3558437bd9f5"
      },
      "outputs": [
        {
          "output_type": "stream",
          "name": "stdout",
          "text": [
            "No ano de 2009:\n",
            "Semana 11: de 2009-03-16 até 2009-03-22\n",
            "\n",
            "\n",
            "No ano de 2010:\n",
            "Semana 37: de 2009-09-14 até 2009-09-20\n",
            "\n",
            "\n",
            "No ano de 2011:\n",
            "Semana 16: de 2009-04-20 até 2009-04-26\n",
            "\n",
            "\n",
            "No ano de 2012:\n",
            "Semana 31: de 2009-08-03 até 2009-08-09\n"
          ]
        }
      ],
      "source": [
        "def find_week_with_max_trips(year_df):\n",
        "    \"\"\"\n",
        "    This function finds the week with the most trips for a specific year.\n",
        "\n",
        "    Args:\n",
        "        year_df (DataFrame): A DataFrame containing trip data for a single year.\n",
        "\n",
        "    Returns:\n",
        "        DataFrame: A DataFrame containing the week with the most trips.\n",
        "    \"\"\"\n",
        "\n",
        "    year_df = year_df.withColumn(\"week_number\", F.weekofyear(\"pickup_date\"))\n",
        "\n",
        "    trips_per_week = year_df.groupBy(\"week_number\").agg(F.count(\"*\").alias(\"total_trips\"))\n",
        "\n",
        "    max_trips_week = trips_per_week.orderBy(F.desc(\"total_trips\")).limit(1)\n",
        "\n",
        "    return max_trips_week\n",
        "\n",
        "\n",
        "def show_week_in_date_format(max_trips_week) -> None:\n",
        "    \"\"\"\n",
        "    This function displays the results in date format.\n",
        "\n",
        "    Args:\n",
        "        max_trips_week (DataFrame): A DataFrame containing the week with the most trips.\n",
        "\n",
        "    Returns:\n",
        "        None\n",
        "    \"\"\"\n",
        "    max_trips_week_column = str(max_trips_week.select(\"week_number\").first()[0])\n",
        "    week_start = datetime.strptime(\"2009-\" + max_trips_week_column + \"-1\", \"%Y-%W-%w\")\n",
        "    week_end = week_start + timedelta(days=6)\n",
        "    print(f\"Semana {max_trips_week_column}: de {week_start.strftime('%Y-%m-%d')} até {week_end.strftime('%Y-%m-%d')}\")\n",
        "\n",
        "print(\"No ano de 2009:\")\n",
        "max_trips_week_2009 = find_week_with_max_trips(df_2009)\n",
        "show_week_in_date_format(max_trips_week_2009)\n",
        "print(\"\\n\")\n",
        "print(\"No ano de 2010:\")\n",
        "max_trips_week_2010 = find_week_with_max_trips(df_2010)\n",
        "show_week_in_date_format(max_trips_week_2010)\n",
        "print(\"\\n\")\n",
        "print(\"No ano de 2011:\")\n",
        "max_trips_week_2011 = find_week_with_max_trips(df_2011)\n",
        "show_week_in_date_format(max_trips_week_2011)\n",
        "print(\"\\n\")\n",
        "print(\"No ano de 2012:\")\n",
        "max_trips_week_2012 = find_week_with_max_trips(df_2012)\n",
        "show_week_in_date_format(max_trips_week_2012)\n",
        "\n",
        "\n"
      ]
    },
    {
      "cell_type": "markdown",
      "metadata": {
        "id": "MPZbtCoGRPIG"
      },
      "source": [
        "## Quantas viagens o vendor com mais viagens naquele ano fez na semana com mais viagens de táxi no ano?"
      ]
    },
    {
      "cell_type": "code",
      "execution_count": null,
      "metadata": {
        "colab": {
          "base_uri": "https://localhost:8080/"
        },
        "id": "-UaxVNjfR5SS",
        "outputId": "b358a02d-574a-4db7-af80-d10c504e4981"
      },
      "outputs": [
        {
          "output_type": "stream",
          "name": "stdout",
          "text": [
            "No ano de 2009:\n",
            "+---------+-----------+-----------------+\n",
            "|vendor_id|week_number|trips_in_max_week|\n",
            "+---------+-----------+-----------------+\n",
            "|      VTS|          7|              364|\n",
            "+---------+-----------+-----------------+\n",
            "\n",
            "\n",
            "\n",
            "No ano de 2010:\n",
            "+---------+-----------+-----------------+\n",
            "|vendor_id|week_number|trips_in_max_week|\n",
            "+---------+-----------+-----------------+\n",
            "|      VTS|          2|              374|\n",
            "+---------+-----------+-----------------+\n",
            "\n",
            "\n",
            "\n",
            "No ano de 2011:\n",
            "+---------+-----------+-----------------+\n",
            "|vendor_id|week_number|trips_in_max_week|\n",
            "+---------+-----------+-----------------+\n",
            "|      VTS|         16|              444|\n",
            "+---------+-----------+-----------------+\n",
            "\n",
            "\n",
            "\n",
            "No ano de 2012:\n",
            "+---------+-----------+-----------------+\n",
            "|vendor_id|week_number|trips_in_max_week|\n",
            "+---------+-----------+-----------------+\n",
            "|      VTS|         29|              445|\n",
            "+---------+-----------+-----------------+\n",
            "\n"
          ]
        }
      ],
      "source": [
        "def find_trips_of_top_vendor_in_max_trips_week(year_df)-> None:\n",
        "    \"\"\"\n",
        "    This function finds the week in which the top vendor had the most trips and the number of trips\n",
        "    they had in that week.\n",
        "\n",
        "    Args:\n",
        "        year_df (DataFrame): A DataFrame containing trip data for a single year.\n",
        "\n",
        "    Returns:\n",
        "        None\n",
        "    \"\"\"\n",
        "    year_df = year_df.withColumn(\"week_number\", weekofyear(year_df[\"pickup_date\"]))\n",
        "\n",
        "    trips_per_week = year_df.groupBy(\"week_number\", \"vendor_id\").agg(\n",
        "        count(\"*\").alias(\"total_trips\")\n",
        "    )\n",
        "\n",
        "    max_trips_week = trips_per_week.orderBy(desc(\"total_trips\")).limit(1)\n",
        "\n",
        "    top_vendor = max_trips_week.select(\"vendor_id\").first()[0]\n",
        "\n",
        "    trips_for_top_vendor = year_df.filter((year_df[\"week_number\"] == max_trips_week.select(\"week_number\").first()[0]) & (year_df[\"vendor_id\"] == top_vendor)).groupBy(\"vendor_id\", \"week_number\").agg(count(\"*\").alias(\"trips_in_max_week\"))\n",
        "\n",
        "    trips_for_top_vendor.select(\"vendor_id\", \"week_number\", \"trips_in_max_week\").show()\n",
        "\n",
        "\n",
        "print(\"No ano de 2009:\")\n",
        "find_trips_of_top_vendor_in_max_trips_week(df_2009)\n",
        "print(\"\\n\")\n",
        "print(\"No ano de 2010:\")\n",
        "find_trips_of_top_vendor_in_max_trips_week(df_2010)\n",
        "print(\"\\n\")\n",
        "print(\"No ano de 2011:\")\n",
        "find_trips_of_top_vendor_in_max_trips_week(df_2011)\n",
        "print(\"\\n\")\n",
        "print(\"No ano de 2012:\")\n",
        "find_trips_of_top_vendor_in_max_trips_week(df_2012)\n",
        "\n",
        "\n",
        "\n"
      ]
    }
  ],
  "metadata": {
    "colab": {
      "provenance": []
    },
    "kernelspec": {
      "display_name": "Python 3",
      "name": "python3"
    },
    "language_info": {
      "name": "python"
    }
  },
  "nbformat": 4,
  "nbformat_minor": 0
}